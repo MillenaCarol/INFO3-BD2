{
  "nbformat": 4,
  "nbformat_minor": 0,
  "metadata": {
    "colab": {
      "provenance": []
    },
    "kernelspec": {
      "name": "python3",
      "display_name": "Python 3"
    },
    "language_info": {
      "name": "python"
    }
  },
  "cells": [
    {
      "cell_type": "code",
      "execution_count": 1,
      "metadata": {
        "id": "9iKWLv9Rat0r"
      },
      "outputs": [],
      "source": [
        "import sqlite3\n",
        "from sqlite3 import Error\n",
        "\n",
        "## Função de alteração (insert, update, delete...)\n",
        "def execute_query(connection, query):\n",
        "    cursor = connection.cursor()\n",
        "    try:\n",
        "        cursor.execute(query)\n",
        "        connection.commit()\n",
        "        print(f\"Query {query.split('(')[0].strip()} executada.\")\n",
        "        if cursor.rowcount != -1: print(f\"{cursor.rowcount} linha(s) afetadas\")\n",
        "\n",
        "    except Error as e:\n",
        "        print(f\"Erro: '{e}'\")\n",
        "\n",
        "\n",
        "# Função de leitura de dados (select)\n",
        "def execute_read_query(connection, query):\n",
        "    cursor = connection.cursor()\n",
        "    result = None\n",
        "    try:\n",
        "        cursor.execute(query)\n",
        "        result = cursor.fetchall()\n",
        "\n",
        "        return result\n",
        "    except Error as e:\n",
        "        print(f\"Erro: '{e}'\")"
      ]
    },
    {
      "cell_type": "markdown",
      "source": [],
      "metadata": {
        "id": "lixDJq1-eRhP"
      }
    },
    {
      "cell_type": "code",
      "source": [
        "connection = sqlite3.connect(\"prisma.sqlite\")\n",
        "\n",
        "query = \"\"\"\n",
        "create Table Turma(\n",
        "  Codigo varchar(10) not null  primary key,\n",
        "  Curso varchar(20) not null,\n",
        "  Periodo int not null\n",
        ");\n",
        "\"\"\"\n",
        "execute_query(connection, query)\n",
        "\n",
        "query = \"\"\"\n",
        "create Table Aluno(\n",
        "  RA varchar(7) not null,\n",
        "  CodigoTurma varchar(10) not null,\n",
        "  Nome text not null,\n",
        "  DataNasc date not null,\n",
        "\n",
        "  primary key(RA, CodigoTurma),\n",
        "  foreign key(CodigoTurma) references Turma(Codigo) on delete restrict\n",
        ");\n",
        "\"\"\"\n",
        "execute_query(connection, query)\n",
        "\n",
        "query = \"\"\"\n",
        "create Table ContatoDoAluno(\n",
        "  RAAluno varchar(7) not null primary key,\n",
        "  contato text not null,\n",
        "\n",
        "  foreign key(RAAluno) references Aluno(RA) on delete cascade\n",
        ");\n",
        "\"\"\"\n",
        "execute_query(connection, query)\n",
        "\n",
        "query = \"\"\"\n",
        "create Table Professor(\n",
        "  ID varchar(8) not null primary key\n",
        ");\n",
        "\"\"\"\n",
        "execute_query(connection, query)\n",
        "\n",
        "query = \"\"\"\n",
        "create Table ContatoDoProfessor(\n",
        "  IDProfessor varchar(8) not null primary key,\n",
        "  contato text not null,\n",
        "\n",
        "  foreign key(IDProfessor) references Professor(ID) on delete cascade\n",
        ");\n",
        "\"\"\"\n",
        "execute_query(connection, query)\n",
        "\n",
        "query = \"\"\"\n",
        "create Table ProfessorLecionaEmTurma(\n",
        "  IDProfessor varchar(8) not null,\n",
        "  CodigoTurma varchar(10) not null,\n",
        "  Disciplina text not null,\n",
        "\n",
        "  primary key(IDProfessor, CodigoTurma),\n",
        "  foreign key(IDProfessor) references Professor(ID) on delete restrict,\n",
        "  foreign key(CodigoTurma) references Turma(Codigo) on delete restrict\n",
        ");\n",
        "\"\"\"\n",
        "execute_query(connection, query)\n",
        "\n",
        "query = \"\"\"\n",
        "create Table Questionario(\n",
        "  NumeroRef integer not null primary key autoincrement\n",
        ");\n",
        "\"\"\"\n",
        "execute_query(connection, query)\n",
        "\n",
        "query = \"\"\"\n",
        "create Table AlunoRespondeQuestionario(\n",
        "  RAAluno varchar(7) not null,\n",
        "  NumeroRefQuestionario integer not null,\n",
        "  DataResposta date not null,\n",
        "\n",
        "  primary key(RAAluno, NumeroRefQuestionario),\n",
        "  foreign key(RAAluno) references Aluno(RA) on delete cascade,\n",
        "  foreign key(NumeroRefQuestionario) references Questionario(NumeroRef) on delete restrict\n",
        ");\n",
        "\"\"\"\n"
      ],
      "metadata": {
        "colab": {
          "base_uri": "https://localhost:8080/"
        },
        "id": "V9NqjTZZbGbx",
        "outputId": "b2f2741e-d13b-4a7d-9916-2f1c1cc05d3d"
      },
      "execution_count": 2,
      "outputs": [
        {
          "output_type": "stream",
          "name": "stdout",
          "text": [
            "Query create Table Turma executada.\n",
            "Query create Table Aluno executada.\n",
            "Query create Table ContatoDoAluno executada.\n",
            "Query create Table Professor executada.\n",
            "Query create Table ContatoDoProfessor executada.\n",
            "Query create Table ProfessorLecionaEmTurma executada.\n",
            "Query create Table Questionario executada.\n"
          ]
        }
      ]
    },
    {
      "cell_type": "code",
      "source": [],
      "metadata": {
        "colab": {
          "base_uri": "https://localhost:8080/"
        },
        "id": "5xUEsHNtcPuN",
        "outputId": "c573ff45-ac82-4282-af73-f34f6522c592"
      },
      "execution_count": 3,
      "outputs": [
        {
          "output_type": "stream",
          "name": "stdout",
          "text": [
            "Query create Table AlunoRespondeQuestionario executada.\n",
            "Query INSERT INTO Turma executada.\n",
            "1 linha(s) afetadas\n",
            "Query INSERT INTO Aluno executada.\n",
            "1 linha(s) afetadas\n",
            "Query INSERT INTO ContatoDoAluno executada.\n",
            "1 linha(s) afetadas\n",
            "Query INSERT INTO Professor executada.\n",
            "1 linha(s) afetadas\n",
            "Query INSERT INTO ContatoDoProfessor executada.\n",
            "1 linha(s) afetadas\n",
            "Query INSERT INTO  ProfessorLecionaEmTurma executada.\n",
            "1 linha(s) afetadas\n"
          ]
        }
      ]
    },
    {
      "cell_type": "markdown",
      "source": [
        "Consulta 1\n",
        "\n",
        "\n",
        "* Saber informações sobre uma determinada turma\n",
        "\n",
        "*  Espera-se receber Codigo, Curso, Periodo\n",
        "\n"
      ],
      "metadata": {
        "id": "Ms51Z0QQeVkQ"
      }
    },
    {
      "cell_type": "code",
      "source": [
        "select = \"SELECT Codigo, Curso, Periodo FROM Turma\"\n",
        "print(execute_read_query(connection, select))"
      ],
      "metadata": {
        "colab": {
          "base_uri": "https://localhost:8080/"
        },
        "id": "Jfq2d82-h1k4",
        "outputId": "1c30d653-7aec-409d-f93f-1d28ca6c6949"
      },
      "execution_count": 4,
      "outputs": [
        {
          "output_type": "stream",
          "name": "stdout",
          "text": [
            "[('0123456789', 'Informatica', 'Primeiro Ano')]\n"
          ]
        }
      ]
    },
    {
      "cell_type": "markdown",
      "source": [
        "Consulta 2\n",
        "\n",
        "*   Contato do Aluno\n",
        "*   Espera-se receber RAAluno, contato\n"
      ],
      "metadata": {
        "id": "XV1uZtpFfid1"
      }
    },
    {
      "cell_type": "code",
      "source": [
        "select = \"SELECT RAAluno, contato FROM ContatoDoAluno \"\n",
        "print(execute_read_query(connection, select))"
      ],
      "metadata": {
        "colab": {
          "base_uri": "https://localhost:8080/"
        },
        "id": "O-B3eScedfu0",
        "outputId": "592e0131-d472-4438-cbe7-11a185bda6f2"
      },
      "execution_count": 8,
      "outputs": [
        {
          "output_type": "stream",
          "name": "stdout",
          "text": [
            "[('0123456', 'nomedoaluno@gmail.com')]\n"
          ]
        }
      ]
    }
  ]
}