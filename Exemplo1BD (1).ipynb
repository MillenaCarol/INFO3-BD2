{
  "nbformat": 4,
  "nbformat_minor": 0,
  "metadata": {
    "colab": {
      "provenance": []
    },
    "kernelspec": {
      "name": "python3",
      "display_name": "Python 3"
    },
    "language_info": {
      "name": "python"
    }
  },
  "cells": [
    {
      "cell_type": "code",
      "source": [
        "import sqlite3\n",
        "connection = sqlite3.connect(\"pizza_app.sqlite\")"
      ],
      "metadata": {
        "id": "vMURQ5fXO01y"
      },
      "execution_count": null,
      "outputs": []
    },
    {
      "cell_type": "code",
      "source": [
        "cursor = connection.cursor()"
      ],
      "metadata": {
        "id": "mDb0q_DuRN7t"
      },
      "execution_count": null,
      "outputs": []
    },
    {
      "cell_type": "code",
      "source": [
        "from sqlite3 import Error\n",
        "\n",
        "def execute_query(connection, query):\n",
        "    cursor = connection.cursor()\n",
        "    try:\n",
        "        cursor.execute(query)\n",
        "\n",
        "        # commit necessário para alterações no banco\n",
        "        connection.commit() ###\n",
        "\n",
        "        print(f\"Query executada.\")\n",
        "        if cursor.rowcount != -1:\n",
        "            print(f\"{cursor.rowcount} linha(s) afetadas\")\n",
        "\n",
        "    except Error as e:\n",
        "        print(f\"Erro: '{e}'\")"
      ],
      "metadata": {
        "id": "5k_1cF0dTBzY"
      },
      "execution_count": null,
      "outputs": []
    },
    {
      "cell_type": "code",
      "source": [
        "# Cria a tabela produto #\n",
        "create_produto_table = \\\n",
        "\"\"\"CREATE TABLE produto (\n",
        "    id_produto INTEGER PRIMARY KEY AUTOINCREMENT,\n",
        "    tipo VARCHAR(50),\n",
        "    desc_item VARCHAR(100),\n",
        "    vl_preco DECIMAL(10, 2)\n",
        ");\"\"\"\n",
        "\n",
        "execute_query(connection, create_produto_table)\n",
        "#########################\n",
        "\n",
        "# Cria a tabela pedido #\n",
        "create_pedido_table = \\\n",
        "\"\"\"CREATE TABLE pedido (\n",
        "    id_pedido INTEGER PRIMARY KEY AUTOINCREMENT,\n",
        "    dt_pedido DATE,\n",
        "    fl_ketchup BOOLEAN,\n",
        "    desc_uf CHAR(2),\n",
        "    txt_recado TEXT\n",
        ");\"\"\"\n",
        "\n",
        "execute_query(connection, create_pedido_table)\n",
        "#########################\n",
        "\n",
        "# Cria a tabela item_pedido #\n",
        "create_item_pedido_table = \\\n",
        "\"\"\"CREATE TABLE item_pedido (\n",
        "    id_pedido INT NOT NULL,\n",
        "    id_produto INT NOT NULL,\n",
        "    quantidade INT NOT NULL,\n",
        "    PRIMARY KEY (id_pedido, id_produto),\n",
        "    FOREIGN KEY (id_pedido) REFERENCES pedido(id_pedido),\n",
        "    FOREIGN KEY (id_produto) REFERENCES produto(id_produto)\n",
        ");\"\"\"\n",
        "execute_query(connection, create_item_pedido_table)\n",
        "#########################"
      ],
      "metadata": {
        "id": "DOBJQ7PITJ5o"
      },
      "execution_count": null,
      "outputs": []
    },
    {
      "cell_type": "code",
      "source": [
        "## Inserindo registros manualmente\n",
        "\n",
        "# Inserindo produto #\n",
        "insert_produto = \\\n",
        "\"\"\"INSERT INTO\n",
        "produto (tipo, desc_item, vl_preco)\n",
        "VALUES\n",
        "('ingrediente', 'camarão', 6),\n",
        "('massa', 'tradicional', 9.25),\n",
        "('borda', 'tradicional', 0),\n",
        "('queijo', 'muçarela', 4),\n",
        "('bebida', 'refrigerante', 5);\n",
        "\"\"\"\n",
        "execute_query(connection, insert_produto)\n",
        "######################\n",
        "\n",
        "# Inserindo pedido\n",
        "insert_pedido = \\\n",
        "\"\"\"INSERT INTO\n",
        "pedido (dt_pedido, fl_ketchup, desc_uf, txt_recado)\n",
        "VALUES\n",
        "('2023-06-01', TRUE, 'MG', 'Capricha no queijo!');\n",
        "\"\"\"\n",
        "execute_query(connection, insert_pedido)\n",
        "######################"
      ],
      "metadata": {
        "id": "EXZOstLMUv1R"
      },
      "execution_count": null,
      "outputs": []
    },
    {
      "cell_type": "markdown",
      "source": [
        "Esse código insere vários produtos em um mesmo pedido no banco de dados."
      ],
      "metadata": {
        "id": "LEN97f6TVnPH"
      }
    },
    {
      "cell_type": "code",
      "source": [
        "# Inserindo item_pedido\n",
        "itens = (\n",
        "    {'id_pedido': 1, 'id_produto': 2, 'qtd': 1},\n",
        "    {'id_pedido': 1, 'id_produto': 3, 'qtd': 1},\n",
        "    {'id_pedido': 1, 'id_produto': 1, 'qtd': 1},\n",
        "    {'id_pedido': 1, 'id_produto': 4, 'qtd': 2},\n",
        "    {'id_pedido': 1, 'id_produto': 5, 'qtd': 3}\n",
        ")\n",
        "\n",
        "insert_item_pedido = \\\n",
        "\"\"\"INSERT INTO item_pedido (id_pedido, id_produto, quantidade)\n",
        "VALUES(:id_pedido, :id_produto, :qtd);\"\"\"\n",
        "\n",
        "cursor = connection.cursor()\n",
        "cursor.executemany(insert_item_pedido, itens)\n",
        "connection.commit() # necessário para inserções\n",
        "cursor.close()"
      ],
      "metadata": {
        "id": "SBVpN0eTUxHA"
      },
      "execution_count": null,
      "outputs": []
    },
    {
      "cell_type": "markdown",
      "source": [
        "Essa função roda uma consulta e devolve os dados.\n"
      ],
      "metadata": {
        "id": "C7ZXVhuhVyoX"
      }
    },
    {
      "cell_type": "markdown",
      "source": [],
      "metadata": {
        "id": "PGlyD8RuV9Py"
      }
    },
    {
      "cell_type": "code",
      "source": [
        "def execute_read_query(connection, query):\n",
        "    cursor = connection.cursor()\n",
        "    result = None\n",
        "    try:\n",
        "        cursor.execute(query)\n",
        "        result = cursor.fetchall()\n",
        "\n",
        "        return result\n",
        "    except Error as e:\n",
        "        print(f\"Erro: '{e}'\")"
      ],
      "metadata": {
        "id": "MtfpbpqQU1-Q"
      },
      "execution_count": null,
      "outputs": []
    },
    {
      "cell_type": "markdown",
      "source": [
        "Esse código faz um select na tabela produto e imprime todas as linhas da tabela, uma por uma.\n"
      ],
      "metadata": {
        "id": "yoywi9S7WJYn"
      }
    },
    {
      "cell_type": "code",
      "source": [
        "tabela = 'produto'\n",
        "query = f\"SELECT * FROM {tabela}\"\n",
        "resultado = execute_read_query(connection, query)\n",
        "\n",
        "print(f\"Tabela: {tabela}\")\n",
        "for res in resultado:\n",
        "    print(res)"
      ],
      "metadata": {
        "id": "zwuf9TsaU8S3"
      },
      "execution_count": null,
      "outputs": []
    },
    {
      "cell_type": "markdown",
      "source": [
        "Esse código visualiza todas as tabelas do banco e para cada uma, mostra tudo que ela tem."
      ],
      "metadata": {
        "id": "qVqKL1PdWgdp"
      }
    },
    {
      "cell_type": "code",
      "source": [
        "select_table_names = \\\n",
        "\"SELECT name FROM sqlite_schema WHERE type='table';\"\n",
        "tables = execute_read_query(connection, select_table_names)\n",
        "print(tables, '\\n')\n",
        "\n",
        "for table in tables:\n",
        "    select_all = f\"SELECT * FROM {table[0]}\"\n",
        "    res = execute_read_query(connection, select_all)\n",
        "    print(f\"{table[0]}: {res}\")"
      ],
      "metadata": {
        "id": "LZIBXaG_VDyY"
      },
      "execution_count": null,
      "outputs": []
    },
    {
      "cell_type": "markdown",
      "source": [
        "Esse código limpa todas as tabelas, deixando elas vazias."
      ],
      "metadata": {
        "id": "CphCgadnW5Lg"
      }
    },
    {
      "cell_type": "code",
      "source": [
        "execute_query(connection, \"DELETE FROM item_pedido;\")\n",
        "execute_query(connection, \"DELETE FROM pedido;\")\n",
        "execute_query(connection, \"DELETE FROM produto;\")"
      ],
      "metadata": {
        "id": "zOscBgBoVI-P"
      },
      "execution_count": null,
      "outputs": []
    },
    {
      "cell_type": "code",
      "source": [
        "! wget https://raw.githubusercontent.com/camilalaranjeira/python-intermediario/main/pizza_query/item_pedido.csv\n",
        "! wget https://raw.githubusercontent.com/camilalaranjeira/python-intermediario/main/pizza_query/pedido.csv\n",
        "! wget https://raw.githubusercontent.com/camilalaranjeira/python-intermediario/main/pizza_query/produto.csv"
      ],
      "metadata": {
        "id": "0D-xISs_g6pH"
      },
      "execution_count": null,
      "outputs": []
    },
    {
      "cell_type": "markdown",
      "source": [
        "O código lê o arquivo \"pedido.csv\" e cria uma tabela com os dados dele"
      ],
      "metadata": {
        "id": "b-QoYvIqfasH"
      }
    },
    {
      "cell_type": "code",
      "source": [
        "import pandas as pd\n",
        "df_pedido = pd.read_csv(f'pedido.csv')\n",
        "display(df_pedido.head())"
      ],
      "metadata": {
        "id": "EIgz_DhuYqZo"
      },
      "execution_count": null,
      "outputs": []
    },
    {
      "cell_type": "markdown",
      "source": [
        " O código salva os dados no banco, conta quantos pedidos existem e busca os pedidos com id menor que 5."
      ],
      "metadata": {
        "id": "yCmVStmJf0uA"
      }
    },
    {
      "cell_type": "code",
      "source": [
        "df_pedido.to_sql('pedido', connection, if_exists='append', index=False)\n",
        "\n",
        "count_rows = \"SELECT COUNT(id_pedido) as count_id FROM pedido;\"\n",
        "print(execute_read_query(connection, count_rows))\n",
        "\n",
        "select_all = f\"SELECT * FROM pedido WHERE id_pedido < 5;\"\n",
        "execute_read_query(connection, select_all)"
      ],
      "metadata": {
        "id": "J1GVgUKPYuYx"
      },
      "execution_count": null,
      "outputs": []
    },
    {
      "cell_type": "markdown",
      "source": [
        " O códiogo consulta e imprime o sql."
      ],
      "metadata": {
        "id": "gj55RR13gDLm"
      }
    },
    {
      "cell_type": "code",
      "source": [
        "# df_pedido.to_sql('pedido', connection, if_exists='replace', index=False)\n",
        "res = execute_read_query(connection, \"SELECT sql FROM sqlite_schema\")\n",
        "for r in res:\n",
        "    print(r[0])"
      ],
      "metadata": {
        "id": "KvuraMcfYwqI"
      },
      "execution_count": null,
      "outputs": []
    },
    {
      "cell_type": "markdown",
      "source": [
        "O código salva os dados df_pedido em uma tabela, depois ele imprime o código que mostra como as tabelas do banco foram criadas."
      ],
      "metadata": {
        "id": "8jbLUKF3iSZf"
      }
    },
    {
      "cell_type": "code",
      "source": [
        "df_pedido.to_sql('pedido', connection, if_exists='replace', index=False)\n",
        "res = execute_read_query(connection, \"SELECT sql FROM sqlite_schema\")\n",
        "for r in res:\n",
        "    print(r[0])"
      ],
      "metadata": {
        "id": "PEAlbSVzY234"
      },
      "execution_count": null,
      "outputs": []
    },
    {
      "cell_type": "markdown",
      "source": [
        "O código conta os 5 estados com mais pedidos na tabela e mostra o resultado."
      ],
      "metadata": {
        "id": "sRbeTawWinvp"
      }
    },
    {
      "cell_type": "code",
      "source": [
        "query=\"\"\"\n",
        "SELECT desc_uf, COUNT(*) as count_pedidos\n",
        "FROM pedido\n",
        "GROUP BY desc_uf\n",
        "ORDER BY count_pedidos DESC\n",
        "LIMIT 5\n",
        "\"\"\"\n",
        "pd.read_sql_query(query, connection)"
      ],
      "metadata": {
        "id": "rv51BJWqY3kY"
      },
      "execution_count": null,
      "outputs": []
    }
  ]
}